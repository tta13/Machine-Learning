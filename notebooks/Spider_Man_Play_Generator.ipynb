{
  "nbformat": 4,
  "nbformat_minor": 0,
  "metadata": {
    "colab": {
      "name": "Spider-Man Play Generator.ipynb",
      "provenance": [],
      "collapsed_sections": [],
      "authorship_tag": "ABX9TyMd0TA4if9ynZmJDW8Q8w6H"
    },
    "kernelspec": {
      "name": "python3",
      "display_name": "Python 3"
    },
    "language_info": {
      "name": "python"
    },
    "accelerator": "GPU"
  },
  "cells": [
    {
      "cell_type": "markdown",
      "source": [
        "# Spider-Man Play Generator"
      ],
      "metadata": {
        "id": "5a_hw9aUh-dL"
      }
    },
    {
      "cell_type": "markdown",
      "source": [
        "## Imports"
      ],
      "metadata": {
        "id": "A-YSa1aLiFni"
      }
    },
    {
      "cell_type": "code",
      "execution_count": 1,
      "metadata": {
        "colab": {
          "base_uri": "https://localhost:8080/"
        },
        "id": "V6ux1raTh3cb",
        "outputId": "52b880d0-d8d1-42b0-f819-2eb217c2dff8"
      },
      "outputs": [
        {
          "output_type": "stream",
          "name": "stdout",
          "text": [
            "`%tensorflow_version` only switches the major version: 1.x or 2.x.\n",
            "You set: `2.x  # this line is not required unless you are in a notebook`. This will be interpreted as: `2.x`.\n",
            "\n",
            "\n",
            "TensorFlow 2.x selected.\n"
          ]
        }
      ],
      "source": [
        "%tensorflow_version 2.x  # this line is not required unless you are in a notebook\n",
        "from keras.preprocessing import sequence\n",
        "import keras\n",
        "import tensorflow as tf\n",
        "import os\n",
        "import numpy as np"
      ]
    },
    {
      "cell_type": "markdown",
      "source": [
        "## Loading data"
      ],
      "metadata": {
        "id": "R1Mw3cQqiulS"
      }
    },
    {
      "cell_type": "code",
      "source": [
        "from google.colab import files\n",
        "path_to_file = list(files.upload().keys())[0]"
      ],
      "metadata": {
        "colab": {
          "resources": {
            "http://localhost:8080/nbextensions/google.colab/files.js": {
              "data": "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",
              "ok": true,
              "headers": [
                [
                  "content-type",
                  "application/javascript"
                ]
              ],
              "status": 200,
              "status_text": ""
            }
          },
          "base_uri": "https://localhost:8080/",
          "height": 73
        },
        "id": "X-QKlc9Xivpz",
        "outputId": "6cbedfd4-ad66-4e39-ddfd-1cbcd49b1826"
      },
      "execution_count": 2,
      "outputs": [
        {
          "output_type": "display_data",
          "data": {
            "text/html": [
              "\n",
              "     <input type=\"file\" id=\"files-fe8e3bd1-1624-4d7d-93c6-88daa6425918\" name=\"files[]\" multiple disabled\n",
              "        style=\"border:none\" />\n",
              "     <output id=\"result-fe8e3bd1-1624-4d7d-93c6-88daa6425918\">\n",
              "      Upload widget is only available when the cell has been executed in the\n",
              "      current browser session. Please rerun this cell to enable.\n",
              "      </output>\n",
              "      <script src=\"/nbextensions/google.colab/files.js\"></script> "
            ],
            "text/plain": [
              "<IPython.core.display.HTML object>"
            ]
          },
          "metadata": {}
        },
        {
          "output_type": "stream",
          "name": "stdout",
          "text": [
            "Saving spiderman_script.txt to spiderman_script.txt\n"
          ]
        }
      ]
    },
    {
      "cell_type": "markdown",
      "source": [
        "## Reading content from file"
      ],
      "metadata": {
        "id": "I9sfzenjiK4D"
      }
    },
    {
      "cell_type": "code",
      "source": [
        "# Read, then decode for py2 compat.\n",
        "text = open(path_to_file, 'rb').read().decode(encoding='utf-8')\n",
        "# length of text is the number of characters in it\n",
        "'Length of text: {} characters'.format(len(text))"
      ],
      "metadata": {
        "colab": {
          "base_uri": "https://localhost:8080/",
          "height": 35
        },
        "id": "T5eDk-KHiMjr",
        "outputId": "53aba438-6bc7-4562-8da0-0322b8f20b88"
      },
      "execution_count": 3,
      "outputs": [
        {
          "output_type": "execute_result",
          "data": {
            "application/vnd.google.colaboratory.intrinsic+json": {
              "type": "string"
            },
            "text/plain": [
              "'Length of text: 184901 characters'"
            ]
          },
          "metadata": {},
          "execution_count": 3
        }
      ]
    },
    {
      "cell_type": "code",
      "source": [
        "# Take a look at the first 250 characters in text\n",
        "print(text[:250])"
      ],
      "metadata": {
        "colab": {
          "base_uri": "https://localhost:8080/"
        },
        "id": "sCbgpfWHi567",
        "outputId": "ec2b94e3-48eb-4841-b51c-8d6e254bd2e6"
      },
      "execution_count": 4,
      "outputs": [
        {
          "output_type": "stream",
          "name": "stdout",
          "text": [
            "SERENITY NOW\r\n",
            "Written by\r\n",
            "Chris McKenna & Erik Sommers\r\n",
            "1.\r\n",
            "OVER SONY LOGO:\r\n",
            "NY1 REPORTER (V.O.)\r\n",
            "We come to you now with revelations\r\n",
            "about last week’s attack in London.\r\n",
            "An anonymous source provided this\r\n",
            "video. It shows Quentin Beck, aka\r\n",
            "Mysterio\n"
          ]
        }
      ]
    },
    {
      "cell_type": "markdown",
      "source": [
        "## Econding characters from script"
      ],
      "metadata": {
        "id": "aq0tHDxljG2M"
      }
    },
    {
      "cell_type": "code",
      "source": [
        "vocab = sorted(set(text))\n",
        "# Creating a mapping from unique characters to indices\n",
        "char2idx = {u:i for i, u in enumerate(vocab)}\n",
        "idx2char = np.array(vocab)\n",
        "\n",
        "def text_to_int(text):\n",
        "  return np.array([char2idx[c] for c in text])\n",
        "\n",
        "text_as_int = text_to_int(text)"
      ],
      "metadata": {
        "id": "K4ovm2NajJr9"
      },
      "execution_count": 7,
      "outputs": []
    },
    {
      "cell_type": "code",
      "source": [
        "index = 13\n",
        "\n",
        "# lets look at how part of our text is encoded\n",
        "print(\"Text:\", text[-index:])\n",
        "print(\"Encoded:\", text_to_int(text[-index:]))"
      ],
      "metadata": {
        "colab": {
          "base_uri": "https://localhost:8080/"
        },
        "id": "QpTy3fvhjLEt",
        "outputId": "1780e83c-a767-4e6b-87a7-2102ca1a044e"
      },
      "execution_count": 11,
      "outputs": [
        {
          "output_type": "stream",
          "name": "stdout",
          "text": [
            "Text: THE END\r\n",
            "181.\n",
            "Encoded: [45 33 30  3 30 39 29  2  1 15 22 15 12]\n"
          ]
        }
      ]
    },
    {
      "cell_type": "markdown",
      "source": [
        "Converting values back to chars"
      ],
      "metadata": {
        "id": "V49dNPZ-jVnN"
      }
    },
    {
      "cell_type": "code",
      "source": [
        "def int_to_text(ints):\n",
        "  try:\n",
        "    ints = ints.numpy()\n",
        "  except:\n",
        "    pass\n",
        "  return ''.join(idx2char[ints])\n",
        "\n",
        "print(int_to_text(text_as_int[-index:]))"
      ],
      "metadata": {
        "colab": {
          "base_uri": "https://localhost:8080/"
        },
        "id": "DcrEOpX5jXL2",
        "outputId": "480869df-12c5-4ac7-bf86-f0accdf1c320"
      },
      "execution_count": 12,
      "outputs": [
        {
          "output_type": "stream",
          "name": "stdout",
          "text": [
            "THE END\r\n",
            "181.\n"
          ]
        }
      ]
    },
    {
      "cell_type": "markdown",
      "source": [
        "## Creating training examples\n"
      ],
      "metadata": {
        "id": "f6mmxsdRjk94"
      }
    },
    {
      "cell_type": "code",
      "source": [
        "seq_length = 100  # length of sequence for a training example\n",
        "examples_per_epoch = len(text)//(seq_length+1)\n",
        "\n",
        "# Create training examples / targets\n",
        "char_dataset = tf.data.Dataset.from_tensor_slices(text_as_int)"
      ],
      "metadata": {
        "id": "uxSow_vXjmoC"
      },
      "execution_count": 13,
      "outputs": []
    },
    {
      "cell_type": "code",
      "source": [
        "sequences = char_dataset.batch(seq_length+1, drop_remainder=True)"
      ],
      "metadata": {
        "id": "g_YBMnarjrPC"
      },
      "execution_count": 14,
      "outputs": []
    },
    {
      "cell_type": "code",
      "source": [
        "def split_input_target(chunk):  # for the example: hello\n",
        "    input_text = chunk[:-1]  # hell\n",
        "    target_text = chunk[1:]  # ello\n",
        "    return input_text, target_text  # hell, ello\n",
        "\n",
        "dataset = sequences.map(split_input_target)  # we use map to apply the above function to every entry"
      ],
      "metadata": {
        "id": "0YSu1SlKjs8a"
      },
      "execution_count": 15,
      "outputs": []
    },
    {
      "cell_type": "code",
      "source": [
        "for x, y in dataset.take(2):\n",
        "  print(\"\\n\\nEXAMPLE\\n\")\n",
        "  print(\"INPUT\")\n",
        "  print(int_to_text(x))\n",
        "  print(\"\\nOUTPUT\")\n",
        "  print(int_to_text(y))"
      ],
      "metadata": {
        "colab": {
          "base_uri": "https://localhost:8080/"
        },
        "id": "VaQHSjGmjv0j",
        "outputId": "fbdf6b77-6182-4581-ef4a-fed55a41a34e"
      },
      "execution_count": 16,
      "outputs": [
        {
          "output_type": "stream",
          "name": "stdout",
          "text": [
            "\n",
            "\n",
            "EXAMPLE\n",
            "\n",
            "INPUT\n",
            "SERENITY NOW\r\n",
            "Written by\r\n",
            "Chris McKenna & Erik Sommers\r\n",
            "1.\r\n",
            "OVER SONY LOGO:\r\n",
            "NY1 REPORTER (V.O.)\r\n",
            "We\n",
            "\n",
            "OUTPUT\n",
            "ERENITY NOW\r\n",
            "Written by\r\n",
            "Chris McKenna & Erik Sommers\r\n",
            "1.\r\n",
            "OVER SONY LOGO:\r\n",
            "NY1 REPORTER (V.O.)\r\n",
            "We \n",
            "\n",
            "\n",
            "EXAMPLE\n",
            "\n",
            "INPUT\n",
            "come to you now with revelations\r\n",
            "about last week’s attack in London.\r\n",
            "An anonymous source provided \n",
            "\n",
            "OUTPUT\n",
            "ome to you now with revelations\r\n",
            "about last week’s attack in London.\r\n",
            "An anonymous source provided t\n"
          ]
        }
      ]
    },
    {
      "cell_type": "code",
      "source": [
        "BATCH_SIZE = 64\n",
        "VOCAB_SIZE = len(vocab)  # vocab is number of unique characters\n",
        "EMBEDDING_DIM = 256\n",
        "RNN_UNITS = 1024\n",
        "\n",
        "# Buffer size to shuffle the dataset\n",
        "# (TF data is designed to work with possibly infinite sequences,\n",
        "# so it doesn't attempt to shuffle the entire sequence in memory. Instead,\n",
        "# it maintains a buffer in which it shuffles elements).\n",
        "BUFFER_SIZE = 10000\n",
        "\n",
        "data = dataset.shuffle(BUFFER_SIZE).batch(BATCH_SIZE, drop_remainder=True)"
      ],
      "metadata": {
        "id": "ajTYJjmijxHb"
      },
      "execution_count": 17,
      "outputs": []
    },
    {
      "cell_type": "markdown",
      "source": [
        "## Building the model\n"
      ],
      "metadata": {
        "id": "484dEtFGj1Rz"
      }
    },
    {
      "cell_type": "code",
      "source": [
        "def build_model(vocab_size, embedding_dim, rnn_units, batch_size):\n",
        "  model = tf.keras.Sequential([\n",
        "    tf.keras.layers.Embedding(vocab_size, embedding_dim,\n",
        "                              batch_input_shape=[batch_size, None]),\n",
        "    tf.keras.layers.LSTM(rnn_units,\n",
        "                        return_sequences=True,\n",
        "                        stateful=True,\n",
        "                        recurrent_initializer='glorot_uniform'),\n",
        "    tf.keras.layers.Dense(vocab_size)\n",
        "  ])\n",
        "  return model\n",
        "\n",
        "model = build_model(VOCAB_SIZE,EMBEDDING_DIM, RNN_UNITS, BATCH_SIZE)\n",
        "model.summary()"
      ],
      "metadata": {
        "colab": {
          "base_uri": "https://localhost:8080/"
        },
        "id": "fQaNCNv2j2pb",
        "outputId": "0543731f-0159-4620-e316-ac6dfb920f1f"
      },
      "execution_count": 53,
      "outputs": [
        {
          "output_type": "stream",
          "name": "stdout",
          "text": [
            "Model: \"sequential_2\"\n",
            "_________________________________________________________________\n",
            " Layer (type)                Output Shape              Param #   \n",
            "=================================================================\n",
            " embedding_2 (Embedding)     (64, None, 256)           22016     \n",
            "                                                                 \n",
            " lstm_2 (LSTM)               (64, None, 1024)          5246976   \n",
            "                                                                 \n",
            " dense_2 (Dense)             (64, None, 86)            88150     \n",
            "                                                                 \n",
            "=================================================================\n",
            "Total params: 5,357,142\n",
            "Trainable params: 5,357,142\n",
            "Non-trainable params: 0\n",
            "_________________________________________________________________\n"
          ]
        }
      ]
    },
    {
      "cell_type": "markdown",
      "source": [
        "## Creating a loss function"
      ],
      "metadata": {
        "id": "oslAZMlokhVx"
      }
    },
    {
      "cell_type": "code",
      "source": [
        "for input_example_batch, target_example_batch in data.take(1):\n",
        "  example_batch_predictions = model(input_example_batch)  # ask our model for a prediction on our first batch of training data (64 entries)\n",
        "  print(example_batch_predictions.shape, \"# (batch_size, sequence_length, vocab_size)\")  # print out the output shape"
      ],
      "metadata": {
        "colab": {
          "base_uri": "https://localhost:8080/"
        },
        "id": "XP7esTI6kj4a",
        "outputId": "27e877eb-b1cc-44eb-d7da-61df7400a858"
      },
      "execution_count": 20,
      "outputs": [
        {
          "output_type": "stream",
          "name": "stdout",
          "text": [
            "(64, 100, 86) # (batch_size, sequence_length, vocab_size)\n"
          ]
        }
      ]
    },
    {
      "cell_type": "code",
      "source": [
        "# we can see that the predicition is an array of 64 arrays, one for each entry in the batch\n",
        "print(len(example_batch_predictions))\n",
        "print(example_batch_predictions)"
      ],
      "metadata": {
        "colab": {
          "base_uri": "https://localhost:8080/"
        },
        "id": "0FhWKcTOknb7",
        "outputId": "fd021bcd-09a5-4b8c-ac07-3ab2477ffa57"
      },
      "execution_count": 21,
      "outputs": [
        {
          "output_type": "stream",
          "name": "stdout",
          "text": [
            "64\n",
            "tf.Tensor(\n",
            "[[[ 4.1582729e-04  1.1267873e-03 -3.4999289e-03 ... -3.5934914e-03\n",
            "    6.2885182e-04  2.3319998e-03]\n",
            "  [ 5.1123798e-03 -8.5950037e-04 -2.9191817e-03 ... -5.4203981e-04\n",
            "    1.7348769e-03 -4.5098057e-03]\n",
            "  [-1.2837355e-03  3.5828613e-03 -2.2711291e-03 ... -4.9767346e-04\n",
            "    1.9495132e-03 -4.4042482e-03]\n",
            "  ...\n",
            "  [ 5.7322164e-03 -8.9301774e-04 -7.7725290e-03 ...  3.4827625e-03\n",
            "    4.9948222e-03  3.4134421e-03]\n",
            "  [ 8.8854097e-03 -3.3415304e-03 -5.2953125e-03 ...  2.8801300e-03\n",
            "    1.5438300e-03  9.2389155e-03]\n",
            "  [ 7.2441464e-03 -1.4247068e-03 -6.8907104e-03 ... -2.8459427e-03\n",
            "    1.8061472e-03  8.5631153e-03]]\n",
            "\n",
            " [[-3.6305001e-03  2.3801078e-04  1.3262633e-03 ... -3.4347838e-03\n",
            "    3.2913426e-03  7.2987778e-03]\n",
            "  [-2.1777391e-03  1.5644935e-03 -5.0677784e-04 ... -5.5863224e-03\n",
            "    4.2505693e-03  3.5481320e-03]\n",
            "  [-2.6912205e-03 -4.4680055e-04 -2.1831181e-03 ... -5.6260410e-03\n",
            "   -2.6864058e-04 -1.6141696e-03]\n",
            "  ...\n",
            "  [-7.3123365e-03  4.5542973e-03  8.3528110e-04 ...  5.5630603e-03\n",
            "    1.0618765e-02  3.5996712e-03]\n",
            "  [-6.6733770e-03  4.9923374e-03 -2.1476664e-03 ...  3.0240460e-04\n",
            "    7.9305274e-03  4.0440871e-03]\n",
            "  [-9.3471669e-03 -3.1565812e-03  1.4483932e-03 ... -5.4263655e-04\n",
            "    1.8805165e-03  8.0420244e-03]]\n",
            "\n",
            " [[-3.6305001e-03  2.3801078e-04  1.3262633e-03 ... -3.4347838e-03\n",
            "    3.2913426e-03  7.2987778e-03]\n",
            "  [-2.1777391e-03  1.5644935e-03 -5.0677784e-04 ... -5.5863224e-03\n",
            "    4.2505693e-03  3.5481320e-03]\n",
            "  [ 8.1516535e-04  2.8343154e-03 -2.6639430e-03 ... -2.3027365e-03\n",
            "    1.2554262e-03  8.4872631e-04]\n",
            "  ...\n",
            "  [ 7.1752020e-03 -4.0455107e-03 -5.3181099e-03 ... -2.8940723e-03\n",
            "    4.0334063e-03  3.9058852e-03]\n",
            "  [ 7.0163389e-03 -6.6680331e-03 -3.5038320e-03 ...  1.7489759e-03\n",
            "    3.9351541e-03  5.4011005e-03]\n",
            "  [ 4.4662235e-03 -3.5900176e-03 -3.2163651e-03 ... -4.2034062e-03\n",
            "    4.3566758e-03  1.4033642e-03]]\n",
            "\n",
            " ...\n",
            "\n",
            " [[ 2.7917661e-03  2.9288419e-03 -1.2326699e-03 ... -1.9117269e-03\n",
            "    5.5379432e-04 -1.0985580e-03]\n",
            "  [ 1.4273046e-03  5.9293634e-03 -2.3567777e-03 ...  2.4167907e-03\n",
            "   -1.3858071e-03  1.6479960e-03]\n",
            "  [ 5.1221224e-03  2.5707232e-03 -1.1987733e-03 ...  3.5917028e-03\n",
            "   -2.5583045e-03  8.1043057e-03]\n",
            "  ...\n",
            "  [ 2.6257979e-03 -1.4559755e-03 -5.6272186e-03 ... -1.5398836e-03\n",
            "    6.3416767e-03  1.2365338e-02]\n",
            "  [ 4.5072851e-03  2.4852292e-03 -5.2406671e-03 ... -3.6646614e-03\n",
            "    6.7854854e-03  6.3257464e-03]\n",
            "  [ 2.3113301e-03  1.1268638e-03 -4.8577646e-03 ... -4.4091544e-03\n",
            "    3.6765048e-03  1.3906459e-04]]\n",
            "\n",
            " [[-3.6305001e-03  2.3801078e-04  1.3262633e-03 ... -3.4347838e-03\n",
            "    3.2913426e-03  7.2987778e-03]\n",
            "  [-3.5277377e-03 -1.2910820e-04  2.2812921e-03 ...  3.5410300e-03\n",
            "   -1.3586531e-03  6.2178900e-03]\n",
            "  [ 1.4295294e-03 -2.0272557e-03  1.5720421e-03 ...  4.2526238e-03\n",
            "   -7.9801836e-04 -2.2331963e-03]\n",
            "  ...\n",
            "  [ 4.1931774e-03  2.8870099e-03 -1.1895779e-02 ... -3.8579872e-03\n",
            "    9.8206792e-03  6.5535028e-04]\n",
            "  [ 8.0382479e-03  2.3449508e-04 -9.0575144e-03 ... -7.8920636e-04\n",
            "    9.6217329e-03 -6.8265907e-03]\n",
            "  [ 1.1857281e-03  4.1077025e-03 -6.6463267e-03 ... -8.5877726e-04\n",
            "    8.6458810e-03 -7.1212756e-03]]\n",
            "\n",
            " [[-1.3281417e-03 -3.1509623e-04  1.3112637e-03 ...  6.3783806e-03\n",
            "   -3.5488249e-03  1.5467522e-03]\n",
            "  [ 1.2966318e-03  2.3222207e-03 -5.2755058e-04 ...  2.8224166e-03\n",
            "   -2.3747492e-03 -3.3153086e-05]\n",
            "  [-2.7434244e-03  3.1369042e-03 -4.9807630e-03 ...  8.0300309e-03\n",
            "    1.8492181e-04 -2.0637992e-03]\n",
            "  ...\n",
            "  [ 1.0623368e-02 -6.4966606e-04 -4.5562736e-03 ... -3.3944319e-03\n",
            "    8.0263818e-04  1.9049614e-03]\n",
            "  [ 5.4651741e-03 -8.0842449e-04 -1.5041624e-03 ... -6.4355438e-03\n",
            "    5.1636994e-03  8.0233365e-03]\n",
            "  [ 5.9166867e-03 -1.6206659e-05 -4.3894928e-03 ... -9.2937192e-03\n",
            "    5.3055533e-03  6.9665122e-03]]], shape=(64, 100, 86), dtype=float32)\n"
          ]
        }
      ]
    },
    {
      "cell_type": "code",
      "source": [
        "# lets examine one prediction\n",
        "pred = example_batch_predictions[0]\n",
        "print(len(pred))\n",
        "print(pred)\n",
        "# notice this is a 2d array of length 100, where each interior array is the prediction for the next character at each time step"
      ],
      "metadata": {
        "colab": {
          "base_uri": "https://localhost:8080/"
        },
        "id": "llqJUNmCko9j",
        "outputId": "3aa65134-b8ea-4748-e033-f24c1e7de7af"
      },
      "execution_count": 22,
      "outputs": [
        {
          "output_type": "stream",
          "name": "stdout",
          "text": [
            "100\n",
            "tf.Tensor(\n",
            "[[ 0.00041583  0.00112679 -0.00349993 ... -0.00359349  0.00062885\n",
            "   0.002332  ]\n",
            " [ 0.00511238 -0.0008595  -0.00291918 ... -0.00054204  0.00173488\n",
            "  -0.00450981]\n",
            " [-0.00128374  0.00358286 -0.00227113 ... -0.00049767  0.00194951\n",
            "  -0.00440425]\n",
            " ...\n",
            " [ 0.00573222 -0.00089302 -0.00777253 ...  0.00348276  0.00499482\n",
            "   0.00341344]\n",
            " [ 0.00888541 -0.00334153 -0.00529531 ...  0.00288013  0.00154383\n",
            "   0.00923892]\n",
            " [ 0.00724415 -0.00142471 -0.00689071 ... -0.00284594  0.00180615\n",
            "   0.00856312]], shape=(100, 86), dtype=float32)\n"
          ]
        }
      ]
    },
    {
      "cell_type": "code",
      "source": [
        "# and finally well look at a prediction at the first timestep\n",
        "time_pred = pred[0]\n",
        "print(len(time_pred))\n",
        "print(time_pred)\n",
        "# and of course its 65 values representing the probabillity of each character occuring next"
      ],
      "metadata": {
        "colab": {
          "base_uri": "https://localhost:8080/"
        },
        "id": "l_xjEKpFkqL0",
        "outputId": "f70f709d-bc90-41d0-974a-b4cdff811247"
      },
      "execution_count": 23,
      "outputs": [
        {
          "output_type": "stream",
          "name": "stdout",
          "text": [
            "86\n",
            "tf.Tensor(\n",
            "[ 4.1582729e-04  1.1267873e-03 -3.4999289e-03 -1.3079775e-03\n",
            " -1.7320107e-03 -1.6314104e-03 -1.5126857e-03  3.1048018e-03\n",
            " -9.5255236e-05  1.6014897e-03  1.2355731e-05 -3.5431592e-03\n",
            " -7.7606121e-05 -5.3844452e-03  6.2133358e-03 -3.0972173e-03\n",
            " -3.2018483e-04  3.9916388e-03  9.1167114e-04  4.5815101e-03\n",
            "  6.0445271e-03  2.1438433e-03  2.1346675e-03  1.7151961e-03\n",
            " -4.8274770e-03 -2.7973100e-03 -2.3786416e-03  2.9443244e-03\n",
            " -4.6162597e-05  3.8739768e-04  1.2525801e-03  4.8028929e-03\n",
            " -4.5617940e-03  2.6781659e-04 -2.9141211e-03 -8.8350354e-03\n",
            "  2.7020839e-03  1.7967755e-03 -3.6267433e-03 -1.2698912e-04\n",
            "  5.0790753e-04 -1.3104663e-03  3.3089609e-03 -4.5861150e-04\n",
            "  7.1563688e-04 -5.6043621e-03  3.6566269e-03 -4.9795448e-03\n",
            " -2.7506836e-04  4.0580342e-03 -5.5871634e-03 -3.4922376e-04\n",
            " -3.6117589e-04 -1.1426937e-03  3.1968823e-03 -1.1064420e-04\n",
            "  4.3381800e-04 -4.2654420e-03 -2.1611750e-03 -2.9105439e-03\n",
            "  2.5432925e-03 -1.0131163e-03  3.2673632e-03 -3.4953286e-03\n",
            " -7.3670747e-04 -3.7311753e-03  2.4180638e-03  4.9707893e-04\n",
            " -1.8929623e-03  4.6285169e-04  7.0222220e-03  3.1891263e-03\n",
            " -1.8004864e-03  9.1355119e-04 -1.6506309e-04 -4.6577347e-03\n",
            " -9.6762273e-04  3.2643301e-03 -3.2656270e-03 -7.6150177e-03\n",
            " -1.7090018e-03 -2.9888076e-03 -3.3301380e-03 -3.5934914e-03\n",
            "  6.2885182e-04  2.3319998e-03], shape=(86,), dtype=float32)\n"
          ]
        }
      ]
    },
    {
      "cell_type": "code",
      "source": [
        "# If we want to determine the predicted character we need to sample the output distribution (pick a value based on probabillity)\n",
        "sampled_indices = tf.random.categorical(pred, num_samples=1)\n",
        "\n",
        "# now we can reshape that array and convert all the integers to numbers to see the actual characters\n",
        "sampled_indices = np.reshape(sampled_indices, (1, -1))[0]\n",
        "predicted_chars = int_to_text(sampled_indices)\n",
        "\n",
        "predicted_chars  # and this is what the model predicted for training sequence 1"
      ],
      "metadata": {
        "colab": {
          "base_uri": "https://localhost:8080/",
          "height": 35
        },
        "id": "mliWM8fvksfE",
        "outputId": "e657cc92-1a1c-4409-936c-d4a9291c39ac"
      },
      "execution_count": 24,
      "outputs": [
        {
          "output_type": "execute_result",
          "data": {
            "application/vnd.google.colaboratory.intrinsic+json": {
              "type": "string"
            },
            "text/plain": [
              "\"é!(iK“0Ix 0SGsga\\nY35j8!GJ8,a!bBg1/z9N.v[I\\nq1“.]M29à[c?XV!G5S9cM7ée:&]5#D8xé‘’iXQE'Eec\\x02'\\nLY6!J\\rJj7liD\""
            ]
          },
          "metadata": {},
          "execution_count": 24
        }
      ]
    },
    {
      "cell_type": "code",
      "source": [
        "def loss(labels, logits):\n",
        "  return tf.keras.losses.sparse_categorical_crossentropy(labels, logits, from_logits=True)"
      ],
      "metadata": {
        "id": "oBW338LWktm8"
      },
      "execution_count": 48,
      "outputs": []
    },
    {
      "cell_type": "markdown",
      "source": [
        "## Compiling model"
      ],
      "metadata": {
        "id": "YetxB3hUk76V"
      }
    },
    {
      "cell_type": "code",
      "source": [
        "model.compile(optimizer='adam', loss=loss)"
      ],
      "metadata": {
        "id": "Dq01KTlNk89m"
      },
      "execution_count": 54,
      "outputs": []
    },
    {
      "cell_type": "markdown",
      "source": [
        "### Creating checkpoints for future use"
      ],
      "metadata": {
        "id": "HwUbOjJUlDd-"
      }
    },
    {
      "cell_type": "code",
      "source": [
        "# Directory where the checkpoints will be saved\n",
        "checkpoint_dir = './training_checkpoints'\n",
        "# Name of the checkpoint files\n",
        "checkpoint_prefix = os.path.join(checkpoint_dir, \"ckpt_{epoch}\")\n",
        "\n",
        "checkpoint_callback=tf.keras.callbacks.ModelCheckpoint(\n",
        "    filepath=checkpoint_prefix,\n",
        "    save_weights_only=True)"
      ],
      "metadata": {
        "id": "JZT8T4vSlF3v"
      },
      "execution_count": 55,
      "outputs": []
    },
    {
      "cell_type": "markdown",
      "source": [
        "## Training"
      ],
      "metadata": {
        "id": "a22arUnllH13"
      }
    },
    {
      "cell_type": "code",
      "source": [
        "EPOCHS = 50"
      ],
      "metadata": {
        "id": "1PDkbmJblJcA"
      },
      "execution_count": 51,
      "outputs": []
    },
    {
      "cell_type": "code",
      "source": [
        "history = model.fit(data, epochs=EPOCHS, callbacks=[checkpoint_callback])"
      ],
      "metadata": {
        "colab": {
          "base_uri": "https://localhost:8080/"
        },
        "id": "TiCreUCMlKZY",
        "outputId": "112d7688-d2ea-4dbc-ebc0-d06b383fecbc"
      },
      "execution_count": 56,
      "outputs": [
        {
          "output_type": "stream",
          "name": "stdout",
          "text": [
            "Epoch 1/50\n",
            "28/28 [==============================] - 7s 181ms/step - loss: 3.7071\n",
            "Epoch 2/50\n",
            "28/28 [==============================] - 6s 179ms/step - loss: 3.1710\n",
            "Epoch 3/50\n",
            "28/28 [==============================] - 5s 180ms/step - loss: 2.6219\n",
            "Epoch 4/50\n",
            "28/28 [==============================] - 5s 178ms/step - loss: 2.3507\n",
            "Epoch 5/50\n",
            "28/28 [==============================] - 5s 178ms/step - loss: 2.1531\n",
            "Epoch 6/50\n",
            "28/28 [==============================] - 5s 179ms/step - loss: 1.9889\n",
            "Epoch 7/50\n",
            "28/28 [==============================] - 5s 181ms/step - loss: 1.8633\n",
            "Epoch 8/50\n",
            "28/28 [==============================] - 5s 178ms/step - loss: 1.7604\n",
            "Epoch 9/50\n",
            "28/28 [==============================] - 5s 178ms/step - loss: 1.6784\n",
            "Epoch 10/50\n",
            "28/28 [==============================] - 5s 178ms/step - loss: 1.6009\n",
            "Epoch 11/50\n",
            "28/28 [==============================] - 5s 178ms/step - loss: 1.5331\n",
            "Epoch 12/50\n",
            "28/28 [==============================] - 5s 178ms/step - loss: 1.4706\n",
            "Epoch 13/50\n",
            "28/28 [==============================] - 5s 182ms/step - loss: 1.4088\n",
            "Epoch 14/50\n",
            "28/28 [==============================] - 5s 178ms/step - loss: 1.3532\n",
            "Epoch 15/50\n",
            "28/28 [==============================] - 5s 177ms/step - loss: 1.3025\n",
            "Epoch 16/50\n",
            "28/28 [==============================] - 5s 179ms/step - loss: 1.2484\n",
            "Epoch 17/50\n",
            "28/28 [==============================] - 5s 180ms/step - loss: 1.1990\n",
            "Epoch 18/50\n",
            "28/28 [==============================] - 5s 179ms/step - loss: 1.1494\n",
            "Epoch 19/50\n",
            "28/28 [==============================] - 5s 178ms/step - loss: 1.1000\n",
            "Epoch 20/50\n",
            "28/28 [==============================] - 5s 178ms/step - loss: 1.0498\n",
            "Epoch 21/50\n",
            "28/28 [==============================] - 5s 180ms/step - loss: 1.0005\n",
            "Epoch 22/50\n",
            "28/28 [==============================] - 5s 178ms/step - loss: 0.9514\n",
            "Epoch 23/50\n",
            "28/28 [==============================] - 5s 180ms/step - loss: 0.8961\n",
            "Epoch 24/50\n",
            "28/28 [==============================] - 5s 178ms/step - loss: 0.8438\n",
            "Epoch 25/50\n",
            "28/28 [==============================] - 5s 182ms/step - loss: 0.7926\n",
            "Epoch 26/50\n",
            "28/28 [==============================] - 5s 180ms/step - loss: 0.7419\n",
            "Epoch 27/50\n",
            "28/28 [==============================] - 5s 178ms/step - loss: 0.6909\n",
            "Epoch 28/50\n",
            "28/28 [==============================] - 5s 177ms/step - loss: 0.6429\n",
            "Epoch 29/50\n",
            "28/28 [==============================] - 5s 178ms/step - loss: 0.5947\n",
            "Epoch 30/50\n",
            "28/28 [==============================] - 5s 180ms/step - loss: 0.5493\n",
            "Epoch 31/50\n",
            "28/28 [==============================] - 5s 178ms/step - loss: 0.5091\n",
            "Epoch 32/50\n",
            "28/28 [==============================] - 5s 181ms/step - loss: 0.4749\n",
            "Epoch 33/50\n",
            "28/28 [==============================] - 5s 178ms/step - loss: 0.4411\n",
            "Epoch 34/50\n",
            "28/28 [==============================] - 5s 178ms/step - loss: 0.4129\n",
            "Epoch 35/50\n",
            "28/28 [==============================] - 5s 178ms/step - loss: 0.3852\n",
            "Epoch 36/50\n",
            "28/28 [==============================] - 5s 181ms/step - loss: 0.3644\n",
            "Epoch 37/50\n",
            "28/28 [==============================] - 5s 178ms/step - loss: 0.3411\n",
            "Epoch 38/50\n",
            "28/28 [==============================] - 5s 178ms/step - loss: 0.3254\n",
            "Epoch 39/50\n",
            "28/28 [==============================] - 5s 179ms/step - loss: 0.3098\n",
            "Epoch 40/50\n",
            "28/28 [==============================] - 5s 179ms/step - loss: 0.2964\n",
            "Epoch 41/50\n",
            "28/28 [==============================] - 5s 179ms/step - loss: 0.2865\n",
            "Epoch 42/50\n",
            "28/28 [==============================] - 5s 181ms/step - loss: 0.2788\n",
            "Epoch 43/50\n",
            "28/28 [==============================] - 5s 179ms/step - loss: 0.2686\n",
            "Epoch 44/50\n",
            "28/28 [==============================] - 5s 177ms/step - loss: 0.2619\n",
            "Epoch 45/50\n",
            "28/28 [==============================] - 5s 179ms/step - loss: 0.2536\n",
            "Epoch 46/50\n",
            "28/28 [==============================] - 5s 178ms/step - loss: 0.2481\n",
            "Epoch 47/50\n",
            "28/28 [==============================] - 5s 178ms/step - loss: 0.2391\n",
            "Epoch 48/50\n",
            "28/28 [==============================] - 5s 181ms/step - loss: 0.2330\n",
            "Epoch 49/50\n",
            "28/28 [==============================] - 5s 180ms/step - loss: 0.2306\n",
            "Epoch 50/50\n",
            "28/28 [==============================] - 5s 178ms/step - loss: 0.2268\n"
          ]
        }
      ]
    },
    {
      "cell_type": "markdown",
      "source": [
        "## Loading model"
      ],
      "metadata": {
        "id": "UsuvtMK-rMIn"
      }
    },
    {
      "cell_type": "code",
      "source": [
        "model = build_model(VOCAB_SIZE, EMBEDDING_DIM, RNN_UNITS, batch_size=1)"
      ],
      "metadata": {
        "id": "tyW3NgqrrNcY"
      },
      "execution_count": 57,
      "outputs": []
    },
    {
      "cell_type": "code",
      "source": [
        "model.load_weights(tf.train.latest_checkpoint(checkpoint_dir))\n",
        "model.build(tf.TensorShape([1, None]))"
      ],
      "metadata": {
        "id": "0_cV_ygdrPtx"
      },
      "execution_count": 58,
      "outputs": []
    },
    {
      "cell_type": "markdown",
      "source": [
        "## Generate text from model"
      ],
      "metadata": {
        "id": "okt1dfSipdbI"
      }
    },
    {
      "cell_type": "code",
      "source": [
        "def generate_text(model, start_string, num_generate=800, temperature=1.0):\n",
        "  \"\"\"\n",
        "  Generate text from model, starting string, characters to generate and temperature.\n",
        "  temperature: Low temperatures results in more predictable text.\n",
        "  Higher temperatures results in more surprising text.\n",
        "  \"\"\"\n",
        "\n",
        "  # Converting our start string to numbers (vectorizing)\n",
        "  input_eval = [char2idx[s] for s in start_string]\n",
        "  input_eval = tf.expand_dims(input_eval, 0)\n",
        "\n",
        "  # Empty string to store our results\n",
        "  text_generated = []\n",
        "\n",
        "  # Here batch size == 1\n",
        "  model.reset_states()\n",
        "  for i in range(num_generate):\n",
        "      predictions = model(input_eval)\n",
        "      # remove the batch dimension\n",
        "    \n",
        "      predictions = tf.squeeze(predictions, 0)\n",
        "\n",
        "      # using a categorical distribution to predict the character returned by the model\n",
        "      predictions = predictions / temperature\n",
        "      predicted_id = tf.random.categorical(predictions, num_samples=1)[-1,0].numpy()\n",
        "\n",
        "      # We pass the predicted character as the next input to the model\n",
        "      # along with the previous hidden state\n",
        "      input_eval = tf.expand_dims([predicted_id], 0)\n",
        "\n",
        "      text_generated.append(idx2char[predicted_id])\n",
        "\n",
        "  return (start_string + ''.join(text_generated))"
      ],
      "metadata": {
        "id": "6pEmnIp9pfiI"
      },
      "execution_count": 59,
      "outputs": []
    },
    {
      "cell_type": "code",
      "source": [
        "starting_string = input(\"Type a starting string: \")\n",
        "num_chars = int(input(\"Type chars to generate: \"))\n",
        "temperature = float(input(\"Type temperature: \"))\n",
        "print(generate_text(model, starting_string, num_chars, temperature))"
      ],
      "metadata": {
        "colab": {
          "base_uri": "https://localhost:8080/"
        },
        "id": "FS3qj8lYpjXY",
        "outputId": "5746f2ce-a4f8-442e-addf-0faef9e9cdbf"
      },
      "execution_count": 63,
      "outputs": [
        {
          "output_type": "stream",
          "name": "stdout",
          "text": [
            "Type a starting string: SPIDER-MAN\n",
            "Type chars to generate: 200\n",
            "Type temperature: 0.75\n",
            "SPIDER-MAN\n",
            "I have to try.\n",
            "Dr. Strange stares back, equal parts furious and concerned,\n",
            "as the PORTAL CLUSES behind him.\n",
            "RAIMI-VERSE PETER (CONT'D)\n",
            "Oh, that’s good.\n",
            "Webb-Verse Peter sets Raimi-Verse Peter’s\n"
          ]
        }
      ]
    }
  ]
}